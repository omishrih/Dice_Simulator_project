{
 "cells": [
  {
   "cell_type": "code",
   "execution_count": 10,
   "id": "fa6f2830",
   "metadata": {},
   "outputs": [
    {
     "name": "stdout",
     "output_type": "stream",
     "text": [
      "How many dice?: 2\n",
      "┌─────────┐┌─────────┐\n",
      "│  ●   ●  ││  ●   ●  │\n",
      "│    ●    ││  ●   ●  │\n",
      "│  ●   ●  ││  ●   ●  │\n",
      "└─────────┘└─────────┘\n",
      "total: 11\n"
     ]
    }
   ],
   "source": [
    "import random\n",
    "\n",
    "dice_art = {\n",
    "    1: (\"┌─────────┐\",\n",
    "        \"│         │\",\n",
    "        \"│    ●    │\",\n",
    "        \"│         │\",\n",
    "        \"└─────────┘\"),\n",
    "    2: (\"┌─────────┐\",\n",
    "        \"│  ●      │\",\n",
    "        \"│         │\",\n",
    "        \"│      ●  │\",\n",
    "        \"└─────────┘\"),\n",
    "    3: (\"┌─────────┐\",\n",
    "        \"│  ●      │\",\n",
    "        \"│    ●    │\",\n",
    "        \"│      ●  │\",\n",
    "        \"└─────────┘\"),\n",
    "    4: (\"┌─────────┐\",\n",
    "        \"│  ●   ●  │\",\n",
    "        \"│         │\",\n",
    "        \"│  ●   ●  │\",\n",
    "        \"└─────────┘\"),\n",
    "    5: (\"┌─────────┐\",\n",
    "        \"│  ●   ●  │\",\n",
    "        \"│    ●    │\",\n",
    "        \"│  ●   ●  │\",\n",
    "        \"└─────────┘\"),\n",
    "    6: (\"┌─────────┐\",\n",
    "        \"│  ●   ●  │\",\n",
    "        \"│  ●   ●  │\",\n",
    "        \"│  ●   ●  │\",\n",
    "        \"└─────────┘\")\n",
    "}\n",
    "\n",
    "dice = []\n",
    "total = 0\n",
    "num_of_dice = int(input(\"How many dice?: \"))\n",
    "\n",
    "for die in range(num_of_dice):\n",
    "    dice.append(random.randint(1, 6))\n",
    "\n",
    "for line in range(5):\n",
    "    for die in dice:\n",
    "        print(dice_art.get(die)[line], end=\"\")\n",
    "    print()\n",
    "\n",
    "for die in dice:\n",
    "    total += die\n",
    "print(f\"total: {total}\")"
   ]
  },
  {
   "cell_type": "code",
   "execution_count": null,
   "id": "a76d8dfc",
   "metadata": {},
   "outputs": [],
   "source": []
  }
 ],
 "metadata": {
  "kernelspec": {
   "display_name": "Python 3 (ipykernel)",
   "language": "python",
   "name": "python3"
  },
  "language_info": {
   "codemirror_mode": {
    "name": "ipython",
    "version": 3
   },
   "file_extension": ".py",
   "mimetype": "text/x-python",
   "name": "python",
   "nbconvert_exporter": "python",
   "pygments_lexer": "ipython3",
   "version": "3.11.5"
  }
 },
 "nbformat": 4,
 "nbformat_minor": 5
}
